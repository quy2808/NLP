{
  "cells": [
    {
      "cell_type": "markdown",
      "metadata": {
        "id": "_2VQo4bajwUU"
      },
      "source": [
        "## Setup"
      ]
    },
    {
      "cell_type": "code",
      "execution_count": 1,
      "metadata": {
        "id": "z682XYsrjkY9"
      },
      "outputs": [],
      "source": [
        "import numpy as np\n",
        "\n",
        "import tensorflow_datasets as tfds\n",
        "import tensorflow as tf\n",
        "\n",
        "tfds.disable_progress_bar()"
      ]
    },
    {
      "cell_type": "markdown",
      "metadata": {
        "id": "1rXHa-w9JZhb"
      },
      "source": [
        "Import `matplotlib` and create a helper function to plot graphs:"
      ]
    },
    {
      "cell_type": "code",
      "execution_count": 2,
      "metadata": {
        "id": "Mp1Z7P9pYRSK"
      },
      "outputs": [],
      "source": [
        "import matplotlib.pyplot as plt\n",
        "\n",
        "\n",
        "def plot_graphs(history, metric):\n",
        "  plt.plot(history.history[metric])\n",
        "  plt.plot(history.history['val_'+metric], '')\n",
        "  plt.xlabel(\"Epochs\")\n",
        "  plt.ylabel(metric)\n",
        "  plt.legend([metric, 'val_'+metric])"
      ]
    },
    {
      "cell_type": "markdown",
      "metadata": {
        "id": "pRmMubr0jrE2"
      },
      "source": [
        "## Setup input pipeline\n",
        "\n",
        "\n",
        "The IMDB large movie review dataset is a *binary classification* dataset—all the reviews have either a *positive* or *negative* sentiment.\n",
        "\n",
        "Download the dataset using [TFDS](https://www.tensorflow.org/datasets). See the [loading text tutorial](https://www.tensorflow.org/tutorials/load_data/text) for details on how to load this sort of data manually.\n"
      ]
    },
    {
      "cell_type": "code",
      "execution_count": 3,
      "metadata": {
        "colab": {
          "base_uri": "https://localhost:8080/"
        },
        "id": "SHRwRoP2nVHX",
        "outputId": "62f2cad1-c23b-434b-da0f-605033b9de63"
      },
      "outputs": [
        {
          "name": "stdout",
          "output_type": "stream",
          "text": [
            "Downloading and preparing dataset 80.23 MiB (download: 80.23 MiB, generated: Unknown size, total: 80.23 MiB) to /root/tensorflow_datasets/imdb_reviews/plain_text/1.0.0...\n",
            "Dataset imdb_reviews downloaded and prepared to /root/tensorflow_datasets/imdb_reviews/plain_text/1.0.0. Subsequent calls will reuse this data.\n"
          ]
        },
        {
          "data": {
            "text/plain": [
              "(TensorSpec(shape=(), dtype=tf.string, name=None),\n",
              " TensorSpec(shape=(), dtype=tf.int64, name=None))"
            ]
          },
          "execution_count": 3,
          "metadata": {},
          "output_type": "execute_result"
        }
      ],
      "source": [
        "dataset, info = tfds.load('imdb_reviews', with_info=True,\n",
        "                          as_supervised=True)\n",
        "train_dataset, test_dataset = dataset['train'], dataset['test']\n",
        "\n",
        "train_dataset.element_spec"
      ]
    },
    {
      "cell_type": "markdown",
      "metadata": {
        "id": "nWA4c2ir7g6p"
      },
      "source": [
        "Initially this returns a dataset of (text, label pairs):"
      ]
    },
    {
      "cell_type": "code",
      "execution_count": 4,
      "metadata": {
        "colab": {
          "base_uri": "https://localhost:8080/"
        },
        "id": "vd4_BGKyurao",
        "outputId": "e0dcbaa6-5b42-4b6c-aa87-c6ed72703423"
      },
      "outputs": [
        {
          "name": "stdout",
          "output_type": "stream",
          "text": [
            "text:  b\"This was an absolutely terrible movie. Don't be lured in by Christopher Walken or Michael Ironside. Both are great actors, but this must simply be their worst role in history. Even their great acting could not redeem this movie's ridiculous storyline. This movie is an early nineties US propaganda piece. The most pathetic scenes were those when the Columbian rebels were making their cases for revolutions. Maria Conchita Alonso appeared phony, and her pseudo-love affair with Walken was nothing but a pathetic emotional plug in a movie that was devoid of any real meaning. I am disappointed that there are movies like this, ruining actor's like Christopher Walken's good name. I could barely sit through it.\"\n",
            "label:  0\n"
          ]
        }
      ],
      "source": [
        "for example, label in train_dataset.take(1):\n",
        "  print('text: ', example.numpy())\n",
        "  print('label: ', label.numpy())"
      ]
    },
    {
      "cell_type": "markdown",
      "metadata": {
        "id": "z2qVJzcEluH_"
      },
      "source": [
        "Next shuffle the data for training and create batches of these `(text, label)` pairs:"
      ]
    },
    {
      "cell_type": "code",
      "execution_count": 5,
      "metadata": {
        "id": "dDsCaZCDYZgm"
      },
      "outputs": [],
      "source": [
        "BUFFER_SIZE = 10000\n",
        "BATCH_SIZE = 64"
      ]
    },
    {
      "cell_type": "code",
      "execution_count": 6,
      "metadata": {
        "id": "VznrltNOnUc5"
      },
      "outputs": [],
      "source": [
        "train_dataset = train_dataset.shuffle(BUFFER_SIZE).batch(BATCH_SIZE).prefetch(tf.data.AUTOTUNE)\n",
        "test_dataset = test_dataset.batch(BATCH_SIZE).prefetch(tf.data.AUTOTUNE)"
      ]
    },
    {
      "cell_type": "code",
      "execution_count": 7,
      "metadata": {
        "colab": {
          "base_uri": "https://localhost:8080/"
        },
        "id": "jqkvdcFv41wC",
        "outputId": "27ef45ac-fb3a-4391-df09-d40faaaa525a"
      },
      "outputs": [
        {
          "name": "stdout",
          "output_type": "stream",
          "text": [
            "texts:  [b'had some lovely poetic bits but is really just an artsy-fartsy toss-together with no direction or resolution. how do these people get through film school? who gives them money to make this crap? could have been so much more, fine lead actor, and i always like Fairuza Balk, but come on, the alt-rock metaphor of just staring vacantly unable to find anything compelling is just so tired, and it sure doesn\\'t make for good films. the director needs to go away and live life for a good long while and not come back to the camera until they really have something to say. this is like the throw-spaghetti-at-the-wall school of art-making, just juxtapose a bunch of earnest imagery and hope hope hope like hell that poetry emerges. that can work, if the director actually has any kind of vision, or has a brain that knows when it\\'s in the presence of potential, but here it\\'s just space filler, of no consequence. i felt the lazy ending coming moments before it hit, and was yelling \"you lazy bastard\" at the screen when the credits popped up.'\n",
            " b'I need to be honest. I watched and enjoy this show because it was gross, offensive, hilarious, and raunchy. Yeah, there is a lot of humor for all tastes. If you are into the kind of humor that deals with making fun of people falling from skateboards, for example then you will have a great time for it.<br /><br />Or, if you enjoy people on extreme stunt actions going bad, you will also have a great time. And if you enjoy scatological humor and extreme situations oh , you will enjoy the show.<br /><br />I enjoy all three kinds of humor that \"Dirty S\\xc3\\xa0nchez\" offers. I like to have a hard laugh with the situations of the show. \"Jackass\" is like a walk in the park compared to this one. So if you are tired of the typical American stupidity of Jackass, give it a try to English extreme stupidity on this show. With all due respect.<br /><br />This is a show that has little taste or class. It\\'s not recommended for those who are easily offended or grossed out.<br /><br />Now, these guys need to see a psychologist. Specially the Paco character.'\n",
            " b'\"The Invisible Ray\" is part science fiction and part horror. It was also the third of seven Karloff/Lugosi features. In this entry the dominant role goes to Boris Karloff.<br /><br />Through specially designed astronomical equipment, Dr. Janos Rukh (Karloff) demonstrates to colleagues Dr. Felix Benet (Bela Lugosi), Sir Frances Stevens (Walter Kingsford), his wife Lady Stevens (Beulah Bondi) and their nephew Ronald Drake (Frank Lawton), that a meteorite containing a powerful element, landed on the African continent many millions of years in the past. Rukh impresses his guests who invite him to accompany them on an expedition to Africa to find the mysterious element.<br /><br />Rukh goes off on his own and discovers the place where the meteorite landed and the element which he names \"Radium X\". Due to Rukh\\'s long absences, his comely young wife Diana (Frances Drake) becomes attracted to Drake and the two fall in love. Meanwhile Rukh becomes contaminated by Radium X to the point that anyone he touches will die instantly. The contamination causes his skin to emit a bright glow in the dark.<br /><br />Rukh goes to Benet for help. Benet devises an antidote which if taken on a daily basis, will provide temporary immunity to the element. Unfortuneatly, the deadly element also affects Rukh\\'s brain, slowly turning him into a vindictive murderer.<br /><br />While Rukh is continuing his work, Sir Frances takes news of the discovery back to France. Diana and Ronald accompany him. When Benet informs him of this action, Rukh accuses the party of betraying him and his discovery and secretly plans his revenge. When he returns to France he learns of the healing power of Radium X as he cures his mother\\'s (Violet Kemble Cooper) blindness and of Benet\\'s work in curing the maladies of his patients.<br /><br />But Rukh\\'s madness intensifies. First he murders an innocent man whom is identified as Rukh. Upon hearing of Rukh\\'s apparent demise, Diana and Ronald marry. This angers Rukh and he begins to exact his revenge on the five other members of the expedition. One night he is lured into a trap set by Benet and...........<br /><br />Karloff is excellent in the lead role moving from a happily married ambitious scientist to a raving maniac. Lugosi has a straight role for once and does what he can with the limited part.<br /><br />At 79 minutes this film was the second longest of the six Karloff/Lugosi collaborations. Karloff\\'s film all the way.']\n",
            "\n",
            "labels:  [0 1 1]\n"
          ]
        }
      ],
      "source": [
        "for example, label in train_dataset.take(1):\n",
        "  print('texts: ', example.numpy()[:3])\n",
        "  print()\n",
        "  print('labels: ', label.numpy()[:3])"
      ]
    },
    {
      "cell_type": "markdown",
      "metadata": {
        "id": "s5eWCo88voPY"
      },
      "source": [
        "## Create the text encoder"
      ]
    },
    {
      "cell_type": "markdown",
      "metadata": {
        "id": "TFevcItw15P_"
      },
      "source": [
        "The raw text loaded by `tfds` needs to be processed before it can be used in a model. The simplest way to process text for training is using the `TextVectorization` layer. This layer has many capabilities, but this tutorial sticks to the default behavior.\n",
        "\n",
        "Create the layer, and pass the dataset's text to the layer's `.adapt` method:"
      ]
    },
    {
      "cell_type": "code",
      "execution_count": 8,
      "metadata": {
        "id": "uC25Lu1Yvuqy"
      },
      "outputs": [],
      "source": [
        "VOCAB_SIZE = 1000\n",
        "encoder = tf.keras.layers.TextVectorization(\n",
        "    max_tokens=VOCAB_SIZE)\n",
        "encoder.adapt(train_dataset.map(lambda text, label: text))"
      ]
    },
    {
      "cell_type": "markdown",
      "metadata": {
        "id": "IuQzVBbe3Ldu"
      },
      "source": [
        "The `.adapt` method sets the layer's vocabulary. Here are the first 20 tokens. After the padding and unknown tokens they're sorted by frequency:"
      ]
    },
    {
      "cell_type": "code",
      "execution_count": 9,
      "metadata": {
        "colab": {
          "base_uri": "https://localhost:8080/"
        },
        "id": "tBoyjjWg0Ac9",
        "outputId": "6b487154-8fef-4eeb-b612-c6f32da10328"
      },
      "outputs": [
        {
          "data": {
            "text/plain": [
              "array(['', '[UNK]', 'the', 'and', 'a', 'of', 'to', 'is', 'in', 'it', 'i',\n",
              "       'this', 'that', 'br', 'was', 'as', 'for', 'with', 'movie', 'but'],\n",
              "      dtype='<U14')"
            ]
          },
          "execution_count": 9,
          "metadata": {},
          "output_type": "execute_result"
        }
      ],
      "source": [
        "vocab = np.array(encoder.get_vocabulary())\n",
        "vocab[:20]"
      ]
    },
    {
      "cell_type": "markdown",
      "metadata": {
        "id": "mjId5pua3jHQ"
      },
      "source": [
        "Once the vocabulary is set, the layer can encode text into indices. The tensors of indices are 0-padded to the longest sequence in the batch (unless you set a fixed `output_sequence_length`):"
      ]
    },
    {
      "cell_type": "code",
      "execution_count": 10,
      "metadata": {
        "colab": {
          "base_uri": "https://localhost:8080/"
        },
        "id": "RGc7C9WiwRWs",
        "outputId": "c3f6aae0-9df8-4bc4-d5f7-1ff0b29cbf8d"
      },
      "outputs": [
        {
          "data": {
            "text/plain": [
              "array([[ 67,  47,   1, ...,   0,   0,   0],\n",
              "       [ 10, 341,   6, ...,   0,   0,   0],\n",
              "       [  2,   1,   1, ...,   0,   0,   0]])"
            ]
          },
          "execution_count": 10,
          "metadata": {},
          "output_type": "execute_result"
        }
      ],
      "source": [
        "encoded_example = encoder(example)[:3].numpy()\n",
        "encoded_example"
      ]
    },
    {
      "cell_type": "markdown",
      "metadata": {
        "id": "F5cjz0bS39IN"
      },
      "source": [
        "With the default settings, the process is not completely reversible. There are three main reasons for that:\n",
        "\n",
        "1. The default value for `preprocessing.TextVectorization`'s `standardize` argument is `\"lower_and_strip_punctuation\"`.\n",
        "2. The limited vocabulary size and lack of character-based fallback results in some unknown tokens."
      ]
    },
    {
      "cell_type": "code",
      "execution_count": 11,
      "metadata": {
        "colab": {
          "base_uri": "https://localhost:8080/"
        },
        "id": "N_tD0QY5wXaK",
        "outputId": "1882d6bb-1409-46f2-9397-812298e75e41"
      },
      "outputs": [
        {
          "name": "stdout",
          "output_type": "stream",
          "text": [
            "Original:  b'had some lovely poetic bits but is really just an artsy-fartsy toss-together with no direction or resolution. how do these people get through film school? who gives them money to make this crap? could have been so much more, fine lead actor, and i always like Fairuza Balk, but come on, the alt-rock metaphor of just staring vacantly unable to find anything compelling is just so tired, and it sure doesn\\'t make for good films. the director needs to go away and live life for a good long while and not come back to the camera until they really have something to say. this is like the throw-spaghetti-at-the-wall school of art-making, just juxtapose a bunch of earnest imagery and hope hope hope like hell that poetry emerges. that can work, if the director actually has any kind of vision, or has a brain that knows when it\\'s in the presence of potential, but here it\\'s just space filler, of no consequence. i felt the lazy ending coming moments before it hit, and was yelling \"you lazy bastard\" at the screen when the credits popped up.'\n",
            "Round-trip:  had some [UNK] [UNK] [UNK] but is really just an [UNK] [UNK] with no direction or [UNK] how do these people get through film school who gives them money to make this crap could have been so much more fine lead actor and i always like [UNK] [UNK] but come on the [UNK] [UNK] of just [UNK] [UNK] [UNK] to find anything [UNK] is just so [UNK] and it sure doesnt make for good films the director needs to go away and live life for a good long while and not come back to the camera until they really have something to say this is like the [UNK] school of [UNK] just [UNK] a bunch of [UNK] [UNK] and hope hope hope like hell that [UNK] [UNK] that can work if the director actually has any kind of [UNK] or has a [UNK] that knows when its in the [UNK] of potential but here its just space [UNK] of no [UNK] i felt the [UNK] ending coming moments before it hit and was [UNK] you [UNK] [UNK] at the screen when the credits [UNK] up                                                                                                                                                                                                                                                                                                                                                                                                                                                                                                                                                                                                                                                                                                                                                                                                                         \n",
            "\n",
            "Original:  b'I need to be honest. I watched and enjoy this show because it was gross, offensive, hilarious, and raunchy. Yeah, there is a lot of humor for all tastes. If you are into the kind of humor that deals with making fun of people falling from skateboards, for example then you will have a great time for it.<br /><br />Or, if you enjoy people on extreme stunt actions going bad, you will also have a great time. And if you enjoy scatological humor and extreme situations oh , you will enjoy the show.<br /><br />I enjoy all three kinds of humor that \"Dirty S\\xc3\\xa0nchez\" offers. I like to have a hard laugh with the situations of the show. \"Jackass\" is like a walk in the park compared to this one. So if you are tired of the typical American stupidity of Jackass, give it a try to English extreme stupidity on this show. With all due respect.<br /><br />This is a show that has little taste or class. It\\'s not recommended for those who are easily offended or grossed out.<br /><br />Now, these guys need to see a psychologist. Specially the Paco character.'\n",
            "Round-trip:  i need to be [UNK] i watched and enjoy this show because it was [UNK] [UNK] hilarious and [UNK] [UNK] there is a lot of humor for all [UNK] if you are into the kind of humor that [UNK] with making fun of people [UNK] from [UNK] for example then you will have a great time for itbr br or if you enjoy people on [UNK] [UNK] [UNK] going bad you will also have a great time and if you enjoy [UNK] humor and [UNK] [UNK] oh you will enjoy the [UNK] br i enjoy all three [UNK] of humor that [UNK] [UNK] [UNK] i like to have a hard laugh with the [UNK] of the show [UNK] is like a [UNK] in the [UNK] [UNK] to this one so if you are [UNK] of the typical american [UNK] of [UNK] give it a try to english [UNK] [UNK] on this show with all due [UNK] br this is a show that has little [UNK] or class its not [UNK] for those who are easily [UNK] or [UNK] [UNK] br now these guys need to see a [UNK] [UNK] the [UNK] character                                                                                                                                                                                                                                                                                                                                                                                                                                                                                                                                                                                                                                                                                                                                                                                                                  \n",
            "\n",
            "Original:  b'\"The Invisible Ray\" is part science fiction and part horror. It was also the third of seven Karloff/Lugosi features. In this entry the dominant role goes to Boris Karloff.<br /><br />Through specially designed astronomical equipment, Dr. Janos Rukh (Karloff) demonstrates to colleagues Dr. Felix Benet (Bela Lugosi), Sir Frances Stevens (Walter Kingsford), his wife Lady Stevens (Beulah Bondi) and their nephew Ronald Drake (Frank Lawton), that a meteorite containing a powerful element, landed on the African continent many millions of years in the past. Rukh impresses his guests who invite him to accompany them on an expedition to Africa to find the mysterious element.<br /><br />Rukh goes off on his own and discovers the place where the meteorite landed and the element which he names \"Radium X\". Due to Rukh\\'s long absences, his comely young wife Diana (Frances Drake) becomes attracted to Drake and the two fall in love. Meanwhile Rukh becomes contaminated by Radium X to the point that anyone he touches will die instantly. The contamination causes his skin to emit a bright glow in the dark.<br /><br />Rukh goes to Benet for help. Benet devises an antidote which if taken on a daily basis, will provide temporary immunity to the element. Unfortuneatly, the deadly element also affects Rukh\\'s brain, slowly turning him into a vindictive murderer.<br /><br />While Rukh is continuing his work, Sir Frances takes news of the discovery back to France. Diana and Ronald accompany him. When Benet informs him of this action, Rukh accuses the party of betraying him and his discovery and secretly plans his revenge. When he returns to France he learns of the healing power of Radium X as he cures his mother\\'s (Violet Kemble Cooper) blindness and of Benet\\'s work in curing the maladies of his patients.<br /><br />But Rukh\\'s madness intensifies. First he murders an innocent man whom is identified as Rukh. Upon hearing of Rukh\\'s apparent demise, Diana and Ronald marry. This angers Rukh and he begins to exact his revenge on the five other members of the expedition. One night he is lured into a trap set by Benet and...........<br /><br />Karloff is excellent in the lead role moving from a happily married ambitious scientist to a raving maniac. Lugosi has a straight role for once and does what he can with the limited part.<br /><br />At 79 minutes this film was the second longest of the six Karloff/Lugosi collaborations. Karloff\\'s film all the way.'\n",
            "Round-trip:  the [UNK] [UNK] is part [UNK] [UNK] and part horror it was also the third of [UNK] [UNK] features in this [UNK] the [UNK] role goes to [UNK] [UNK] br through [UNK] [UNK] [UNK] [UNK] dr [UNK] [UNK] [UNK] [UNK] to [UNK] dr [UNK] [UNK] [UNK] [UNK] [UNK] [UNK] [UNK] [UNK] [UNK] his wife lady [UNK] [UNK] [UNK] and their [UNK] [UNK] [UNK] [UNK] [UNK] that a [UNK] [UNK] a powerful [UNK] [UNK] on the [UNK] [UNK] many [UNK] of years in the past [UNK] [UNK] his [UNK] who [UNK] him to [UNK] them on an [UNK] to [UNK] to find the [UNK] [UNK] br [UNK] goes off on his own and [UNK] the place where the [UNK] [UNK] and the [UNK] which he [UNK] [UNK] [UNK] due to [UNK] long [UNK] his [UNK] young wife [UNK] [UNK] [UNK] becomes [UNK] to [UNK] and the two fall in love [UNK] [UNK] becomes [UNK] by [UNK] [UNK] to the point that anyone he [UNK] will die [UNK] the [UNK] [UNK] his [UNK] to [UNK] a [UNK] [UNK] in the [UNK] br [UNK] goes to [UNK] for help [UNK] [UNK] an [UNK] which if taken on a [UNK] [UNK] will [UNK] [UNK] [UNK] to the [UNK] [UNK] the [UNK] [UNK] also [UNK] [UNK] [UNK] [UNK] [UNK] him into a [UNK] [UNK] br while [UNK] is [UNK] his work [UNK] [UNK] takes [UNK] of the [UNK] back to [UNK] [UNK] and [UNK] [UNK] him when [UNK] [UNK] him of this action [UNK] [UNK] the [UNK] of [UNK] him and his [UNK] and [UNK] [UNK] his [UNK] when he [UNK] to [UNK] he [UNK] of the [UNK] power of [UNK] [UNK] as he [UNK] his [UNK] [UNK] [UNK] [UNK] [UNK] and of [UNK] work in [UNK] the [UNK] of his [UNK] br but [UNK] [UNK] [UNK] first he [UNK] an [UNK] man whom is [UNK] as [UNK] upon [UNK] of [UNK] [UNK] [UNK] [UNK] and [UNK] [UNK] this [UNK] [UNK] and he begins to [UNK] his [UNK] on the five other [UNK] of the [UNK] one night he is [UNK] into a [UNK] set by [UNK] [UNK] br [UNK] is excellent in the lead role moving from a [UNK] [UNK] [UNK] [UNK] to a [UNK] [UNK] [UNK] has a straight role for once and does what he can with the [UNK] [UNK] br at [UNK] minutes this film was the second [UNK] of the [UNK] [UNK] [UNK] [UNK] film all the way                                                                                                                                                                                                                                                                                                                                                                                                                                                                                                                                                                                          \n",
            "\n"
          ]
        }
      ],
      "source": [
        "for n in range(3):\n",
        "  print(\"Original: \", example[n].numpy())\n",
        "  print(\"Round-trip: \", \" \".join(vocab[encoded_example[n]]))\n",
        "  print()"
      ]
    },
    {
      "cell_type": "markdown",
      "metadata": {
        "id": "bjUqGVBxGw-t"
      },
      "source": [
        "## Create the model"
      ]
    },
    {
      "cell_type": "markdown",
      "metadata": {
        "id": "W7zsmInBOCPO"
      },
      "source": [
        "![A drawing of the information flow in the model](https://github.com/tensorflow/text/blob/master/docs/tutorials/images/bidirectional.png?raw=1)"
      ]
    },
    {
      "cell_type": "markdown",
      "metadata": {
        "id": "bgs6nnSTGw-t"
      },
      "source": [
        "Above is a diagram of the model.\n",
        "\n",
        "1. This model can be build as a `tf.keras.Sequential`.\n",
        "\n",
        "2. The first layer is the `encoder`, which converts the text to a sequence of token indices.\n",
        "\n",
        "3. After the encoder is an embedding layer. An embedding layer stores one vector per word. When called, it converts the sequences of word indices to sequences of vectors. These vectors are trainable. After training (on enough data), words with similar meanings often have similar vectors.\n",
        "\n",
        "  This index-lookup is much more efficient than the equivalent operation of passing a one-hot encoded vector through a `tf.keras.layers.Dense` layer.\n",
        "\n",
        "4. A recurrent neural network (RNN) processes sequence input by iterating through the elements. RNNs pass the outputs from one timestep to their input on the next timestep.\n",
        "\n",
        "  The `tf.keras.layers.Bidirectional` wrapper can also be used with an RNN layer. This propagates the input forward and backwards through the RNN layer and then concatenates the final output.\n",
        "\n",
        "  * The main advantage of a bidirectional RNN is that the signal from the beginning of the input doesn't need to be processed all the way through every timestep to affect the output.  \n",
        "\n",
        "  * The main disadvantage of a bidirectional RNN is that you can't efficiently stream predictions as words are being added to the end.\n",
        "\n",
        "5. After the RNN has converted the sequence to a single vector the two `layers.Dense` do some final processing, and convert from this vector representation to a single logit as the classification output.\n"
      ]
    },
    {
      "cell_type": "markdown",
      "metadata": {
        "id": "V4fodCI7soQi"
      },
      "source": [
        "The code to implement this is below:"
      ]
    },
    {
      "cell_type": "code",
      "execution_count": 12,
      "metadata": {
        "id": "LwfoBkmRYcP3"
      },
      "outputs": [],
      "source": [
        "model = tf.keras.Sequential([\n",
        "    encoder,\n",
        "    tf.keras.layers.Embedding(\n",
        "        input_dim=len(encoder.get_vocabulary()),\n",
        "        output_dim=64,\n",
        "        # Use masking to handle the variable sequence lengths\n",
        "        mask_zero=True),\n",
        "    tf.keras.layers.Bidirectional(tf.keras.layers.LSTM(64)),\n",
        "    tf.keras.layers.Dense(64, activation='relu'),\n",
        "    tf.keras.layers.Dense(1)\n",
        "])"
      ]
    },
    {
      "cell_type": "markdown",
      "metadata": {
        "id": "QIGmIGkkouUb"
      },
      "source": [
        "Please note that Keras sequential model is used here since all the layers in the model only have single input and produce single output. In case you want to use stateful RNN layer, you might want to build your model with Keras functional API or model subclassing so that you can retrieve and reuse the RNN layer states. Please check [Keras RNN guide](https://www.tensorflow.org/guide/keras/rnn#rnn_state_reuse) for more details."
      ]
    },
    {
      "cell_type": "markdown",
      "metadata": {
        "id": "kF-PsCk1LwjY"
      },
      "source": [
        "The embedding layer [uses masking](https://www.tensorflow.org/guide/keras/masking_and_padding) to handle the varying sequence-lengths. All the layers after the `Embedding` support masking:"
      ]
    },
    {
      "cell_type": "code",
      "execution_count": 13,
      "metadata": {
        "colab": {
          "base_uri": "https://localhost:8080/"
        },
        "id": "87a8-CwfKebw",
        "outputId": "2d984a5d-471c-4344-d012-908dc4bc1232"
      },
      "outputs": [
        {
          "name": "stdout",
          "output_type": "stream",
          "text": [
            "[False, True, True, True, True]\n"
          ]
        }
      ],
      "source": [
        "print([layer.supports_masking for layer in model.layers])"
      ]
    },
    {
      "cell_type": "markdown",
      "metadata": {
        "id": "ZlS0iaUIWLpI"
      },
      "source": [
        "To confirm that this works as expected, evaluate a sentence twice. First, alone so there's no padding to mask:"
      ]
    },
    {
      "cell_type": "code",
      "execution_count": 14,
      "metadata": {
        "colab": {
          "base_uri": "https://localhost:8080/"
        },
        "id": "O41gw3KfWHus",
        "outputId": "35995fd9-c79e-4e37-9436-bc82ea057ad9"
      },
      "outputs": [
        {
          "name": "stdout",
          "output_type": "stream",
          "text": [
            "1/1 [==============================] - 9s 9s/step\n",
            "[0.0117404]\n"
          ]
        }
      ],
      "source": [
        "# predict on a sample text without padding.\n",
        "\n",
        "sample_text = ('The movie was cool. The animation and the graphics '\n",
        "               'were out of this world. I would recommend this movie.')\n",
        "predictions = model.predict(np.array([sample_text]))\n",
        "print(predictions[0])"
      ]
    },
    {
      "cell_type": "markdown",
      "metadata": {
        "id": "K0VQmGnEWcuz"
      },
      "source": [
        "Now, evaluate it again in a batch with a longer sentence. The result should be identical:"
      ]
    },
    {
      "cell_type": "code",
      "execution_count": 15,
      "metadata": {
        "colab": {
          "base_uri": "https://localhost:8080/"
        },
        "id": "UIgpuTeFNDzq",
        "outputId": "4fbdc766-adbe-4522-928e-badf2e7db713"
      },
      "outputs": [
        {
          "name": "stdout",
          "output_type": "stream",
          "text": [
            "1/1 [==============================] - 0s 105ms/step\n",
            "[0.0117404]\n"
          ]
        }
      ],
      "source": [
        "# predict on a sample text with padding\n",
        "\n",
        "padding = \"the \" * 2000\n",
        "predictions = model.predict(np.array([sample_text, padding]))\n",
        "print(predictions[0])"
      ]
    },
    {
      "cell_type": "markdown",
      "metadata": {
        "id": "sRI776ZcH3Tf"
      },
      "source": [
        "Compile the Keras model to configure the training process:"
      ]
    },
    {
      "cell_type": "code",
      "execution_count": 16,
      "metadata": {
        "id": "kj2xei41YZjC"
      },
      "outputs": [],
      "source": [
        "model.compile(loss=tf.keras.losses.BinaryCrossentropy(from_logits=True),\n",
        "              optimizer=tf.keras.optimizers.Adam(1e-4),\n",
        "              metrics=['accuracy'])"
      ]
    },
    {
      "cell_type": "markdown",
      "metadata": {
        "id": "zIwH3nto596k"
      },
      "source": [
        "## Train the model"
      ]
    },
    {
      "cell_type": "code",
      "execution_count": 17,
      "metadata": {
        "colab": {
          "base_uri": "https://localhost:8080/"
        },
        "id": "hw86wWS4YgR2",
        "outputId": "9bfa853f-91e0-4501-c14b-d1079bb35641"
      },
      "outputs": [
        {
          "name": "stdout",
          "output_type": "stream",
          "text": [
            "Epoch 1/10\n",
            "391/391 [==============================] - 52s 103ms/step - loss: 0.6302 - accuracy: 0.5804 - val_loss: 0.5048 - val_accuracy: 0.7240\n",
            "Epoch 2/10\n",
            "391/391 [==============================] - 32s 80ms/step - loss: 0.4271 - accuracy: 0.8008 - val_loss: 0.4134 - val_accuracy: 0.8161\n",
            "Epoch 3/10\n",
            "391/391 [==============================] - 25s 65ms/step - loss: 0.3661 - accuracy: 0.8322 - val_loss: 0.3614 - val_accuracy: 0.8391\n",
            "Epoch 4/10\n",
            "391/391 [==============================] - 24s 61ms/step - loss: 0.3361 - accuracy: 0.8523 - val_loss: 0.3527 - val_accuracy: 0.8573\n",
            "Epoch 5/10\n",
            "391/391 [==============================] - 24s 61ms/step - loss: 0.3210 - accuracy: 0.8610 - val_loss: 0.3398 - val_accuracy: 0.8578\n",
            "Epoch 6/10\n",
            "391/391 [==============================] - 25s 63ms/step - loss: 0.3136 - accuracy: 0.8646 - val_loss: 0.3297 - val_accuracy: 0.8526\n",
            "Epoch 7/10\n",
            "391/391 [==============================] - 24s 60ms/step - loss: 0.3069 - accuracy: 0.8687 - val_loss: 0.3259 - val_accuracy: 0.8542\n",
            "Epoch 8/10\n",
            "391/391 [==============================] - 24s 62ms/step - loss: 0.3031 - accuracy: 0.8702 - val_loss: 0.3351 - val_accuracy: 0.8474\n",
            "Epoch 9/10\n",
            "391/391 [==============================] - 24s 60ms/step - loss: 0.3005 - accuracy: 0.8722 - val_loss: 0.3234 - val_accuracy: 0.8589\n",
            "Epoch 10/10\n",
            "391/391 [==============================] - 25s 64ms/step - loss: 0.2986 - accuracy: 0.8726 - val_loss: 0.3270 - val_accuracy: 0.8589\n"
          ]
        }
      ],
      "source": [
        "history = model.fit(train_dataset, epochs=10,\n",
        "                    validation_data=test_dataset,\n",
        "                    validation_steps=30)"
      ]
    },
    {
      "cell_type": "code",
      "execution_count": 18,
      "metadata": {
        "colab": {
          "base_uri": "https://localhost:8080/"
        },
        "id": "BaNbXi43YgUT",
        "outputId": "d67be5a7-eb9a-4e4a-f22e-37c5a5e7a1da"
      },
      "outputs": [
        {
          "name": "stdout",
          "output_type": "stream",
          "text": [
            "391/391 [==============================] - 13s 34ms/step - loss: 0.3248 - accuracy: 0.8612\n",
            "Test Loss: 0.32478639483451843\n",
            "Test Accuracy: 0.861240029335022\n"
          ]
        }
      ],
      "source": [
        "test_loss, test_acc = model.evaluate(test_dataset)\n",
        "\n",
        "print('Test Loss:', test_loss)\n",
        "print('Test Accuracy:', test_acc)"
      ]
    },
    {
      "cell_type": "code",
      "execution_count": 19,
      "metadata": {
        "colab": {
          "base_uri": "https://localhost:8080/",
          "height": 718
        },
        "id": "OZmwt_mzaQJk",
        "outputId": "c6581b81-ad59-4216-f2b8-b06569851659"
      },
      "outputs": [
        {
          "data": {
            "text/plain": [
              "(0.0, 0.6468004554510116)"
            ]
          },
          "execution_count": 19,
          "metadata": {},
          "output_type": "execute_result"
        },
        {
          "data": {
            "image/png": "[encoded data removed]",
            "text/plain": [
              "<Figure size 1600x800 with 2 Axes>"
            ]
          },
          "metadata": {},
          "output_type": "display_data"
        }
      ],
      "source": [
        "plt.figure(figsize=(16, 8))\n",
        "plt.subplot(1, 2, 1)\n",
        "plot_graphs(history, 'accuracy')\n",
        "plt.ylim(None, 1)\n",
        "plt.subplot(1, 2, 2)\n",
        "plot_graphs(history, 'loss')\n",
        "plt.ylim(0, None)"
      ]
    },
    {
      "cell_type": "markdown",
      "metadata": {
        "id": "DwSE_386uhxD"
      },
      "source": [
        "Run a prediction on a new sentence:\n",
        "\n",
        "If the prediction is >= 0.0, it is positive else it is negative."
      ]
    },
    {
      "cell_type": "code",
      "execution_count": 21,
      "metadata": {
        "colab": {
          "base_uri": "https://localhost:8080/"
        },
        "id": "ZXgfQSgRW6zU",
        "outputId": "a083fec3-4e9d-4350-f998-b7f1599fa0dd"
      },
      "outputs": [
        {
          "name": "stdout",
          "output_type": "stream",
          "text": [
            "1/1 [==============================] - 0s 44ms/step\n",
            "[[0.98215336]]\n"
          ]
        }
      ],
      "source": [
        "sample_text = ('The movie was cool. The animation and the graphics '\n",
        "               'were out of this world. I would recommend this movie.')\n",
        "predictions = model.predict(np.array([sample_text]))\n",
        "print(predictions)"
      ]
    }
  ],
  "metadata": {
    "accelerator": "GPU",
    "colab": {
      "provenance": []
    },
    "kernelspec": {
      "display_name": "Python 3",
      "name": "python3"
    }
  },
  "nbformat": 4,
  "nbformat_minor": 0
}
